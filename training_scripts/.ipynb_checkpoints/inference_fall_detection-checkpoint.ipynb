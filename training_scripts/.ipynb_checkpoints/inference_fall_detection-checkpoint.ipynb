{
 "cells": [
  {
   "cell_type": "markdown",
   "metadata": {},
   "source": [
    "# Fall detection model can run on a variety of source"
   ]
  },
  {
   "cell_type": "code",
   "execution_count": null,
   "metadata": {},
   "outputs": [],
   "source": [
    "python detect.py --source 0  # webcam\n",
    "                          img.jpg  # image \n",
    "                          vid.mp4  # video\n",
    "                          path/  # directory\n",
    "                          path/*.jpg  # glob"
   ]
  },
  {
   "cell_type": "markdown",
   "metadata": {},
   "source": [
    "# Detecting falls using YOLOv5s trained weights"
   ]
  },
  {
   "cell_type": "code",
   "execution_count": null,
   "metadata": {},
   "outputs": [],
   "source": [
    "#inference using yolov5s trained for 100 epochs\n",
    "python detect.py \\\n",
    "--weights runs/train/YOLOv5s-100-iteration \\\n",
    "--img 640 \\\n",
    "--conf 0.25 \\\n",
    "--source Dataset/fall-09-detection"
   ]
  },
  {
   "cell_type": "code",
   "execution_count": null,
   "metadata": {},
   "outputs": [],
   "source": [
    "#inference using yolov5s trained for 100 epochs\n",
    "python detect.py \\\n",
    "--weights runs/train/YOLOv5s-100-iteration \\\n",
    "--img 640 \\\n",
    "--conf 0.25 \\\n",
    "--source Dataset/fall-10-detection"
   ]
  },
  {
   "cell_type": "code",
   "execution_count": null,
   "metadata": {},
   "outputs": [],
   "source": [
    "#inference using yolov5s trained for 200 epochs\n",
    "python detect.py \\\n",
    "--weights runs/train/YOLOv5s-200-iteration \\\n",
    "--img 640 \\\n",
    "--conf 0.25 \\\n",
    "--source Dataset/fall-09-detection"
   ]
  },
  {
   "cell_type": "code",
   "execution_count": null,
   "metadata": {},
   "outputs": [],
   "source": [
    "#inference using yolovts trained for 200 epochs\n",
    "python detect.py \\\n",
    "--weights runs/train/YOLOv5s-200-iteration \\\n",
    "--img 640 \\\n",
    "--conf 0.25 \\\n",
    "--source Dataset/fall-10-detection"
   ]
  },
  {
   "cell_type": "code",
   "execution_count": null,
   "metadata": {},
   "outputs": [],
   "source": [
    "#inference using yolov5s trained for 300 epochs\n",
    "python detect.py \\\n",
    "--weights runs/train/YOLOv5s-300-iteration \\\n",
    "--img 640 \\\n",
    "--conf 0.25 \\\n",
    "--source Dataset/fall-09-detection"
   ]
  },
  {
   "cell_type": "code",
   "execution_count": null,
   "metadata": {},
   "outputs": [],
   "source": [
    "#inference using yolov5s trained for 300 epochs\n",
    "python detect.py \\\n",
    "--weights runs/train/YOLOv5s-300-iteration \\\n",
    "--img 640 \\\n",
    "--conf 0.25 \\\n",
    "--source Dataset/fall-10-detection"
   ]
  },
  {
   "cell_type": "markdown",
   "metadata": {},
   "source": [
    "# Detecting falls using YOLOv5m trained weights"
   ]
  },
  {
   "cell_type": "code",
   "execution_count": null,
   "metadata": {},
   "outputs": [],
   "source": [
    "#inference using yolov5m trained for 100 epochs\n",
    "python detect.py \\\n",
    "--weights runs/train/YOLOv5m-100-iteration \\\n",
    "--img 640 \\\n",
    "--conf 0.25 \\\n",
    "--source Dataset/fall-09-detection"
   ]
  },
  {
   "cell_type": "code",
   "execution_count": null,
   "metadata": {},
   "outputs": [],
   "source": [
    "#inference using yolov5m trained for 100 epochs\n",
    "python detect.py \\\n",
    "--weights runs/train/YOLOv5m-100-iteration \\\n",
    "--img 640 \\\n",
    "--conf 0.25 \\\n",
    "--source Dataset/fall-10-detection"
   ]
  },
  {
   "cell_type": "code",
   "execution_count": null,
   "metadata": {},
   "outputs": [],
   "source": [
    "#inference using yolov5m trained for 200 epochs\n",
    "python detect.py \\\n",
    "--weights runs/train/YOLOv5m-200-iteration \\\n",
    "--img 640 \\\n",
    "--conf 0.25 \\\n",
    "--source Dataset/fall-09-detection"
   ]
  },
  {
   "cell_type": "code",
   "execution_count": null,
   "metadata": {},
   "outputs": [],
   "source": [
    "#inference using yolov5m trained for 200 epochs\n",
    "python detect.py \\\n",
    "--weights runs/train/YOLOv5m-200-iteration \\\n",
    "--img 640 \\\n",
    "--conf 0.25 \\\n",
    "--source Dataset/fall-10-detection"
   ]
  },
  {
   "cell_type": "code",
   "execution_count": null,
   "metadata": {},
   "outputs": [],
   "source": [
    "#inference using yolov5m trained for 300 epochs\n",
    "python detect.py \\\n",
    "--weights runs/train/YOLOv5m-300-iteration \\\n",
    "--img 640 \\\n",
    "--conf 0.25 \\\n",
    "--source Dataset/fall-09-detection"
   ]
  },
  {
   "cell_type": "code",
   "execution_count": null,
   "metadata": {},
   "outputs": [],
   "source": [
    "#inference using yolov5m trained for 300 epochs\n",
    "python detect.py \\\n",
    "--weights runs/train/YOLOv5m-300-iteration \\\n",
    "--img 640 \\\n",
    "--conf 0.25 \\\n",
    "--source Dataset/fall-10-detection"
   ]
  },
  {
   "cell_type": "markdown",
   "metadata": {},
   "source": [
    "# Detecting falls using YOLOv5l trained weights"
   ]
  },
  {
   "cell_type": "code",
   "execution_count": null,
   "metadata": {},
   "outputs": [],
   "source": [
    "#inference using yolov5l trained for 100 epochs\n",
    "python detect.py \\\n",
    "--weights runs/train/YOLOv5l-100-iteration \\\n",
    "--img 640 \\\n",
    "--conf 0.25 \\\n",
    "--source Dataset/fall-09-detection"
   ]
  },
  {
   "cell_type": "code",
   "execution_count": null,
   "metadata": {},
   "outputs": [],
   "source": [
    "#inference using yolov5l trained for 100 epochs\n",
    "python detect.py \\\n",
    "--weights runs/train/YOLOv5l-100-iteration \\\n",
    "--img 640 \\\n",
    "--conf 0.25 \\\n",
    "--source Dataset/fall-10-detection"
   ]
  },
  {
   "cell_type": "code",
   "execution_count": null,
   "metadata": {},
   "outputs": [],
   "source": [
    "#inference using yolov5l trained for 200 epochs\n",
    "python detect.py \\\n",
    "--weights runs/train/YOLOv5l-200-iteration \\\n",
    "--img 640 \\\n",
    "--conf 0.25 \\\n",
    "--source Dataset/fall-09-detection"
   ]
  },
  {
   "cell_type": "code",
   "execution_count": null,
   "metadata": {},
   "outputs": [],
   "source": [
    "#inference using yolov5l trained for 200 epochs\n",
    "python detect.py \\\n",
    "--weights runs/train/YOLOv5l-200-iteration \\\n",
    "--img 640 \\\n",
    "--conf 0.25 \\\n",
    "--source Dataset/fall-10-detection"
   ]
  },
  {
   "cell_type": "code",
   "execution_count": null,
   "metadata": {},
   "outputs": [],
   "source": [
    "#inference using yolov5l trained for 300 epochs\n",
    "python detect.py \\\n",
    "--weights runs/train/YOLOv5l-300-iteration \\\n",
    "--img 640 \\\n",
    "--conf 0.25 \\\n",
    "--source Dataset/fall-09-detection"
   ]
  },
  {
   "cell_type": "code",
   "execution_count": null,
   "metadata": {},
   "outputs": [],
   "source": [
    "#inference using yolov5l trained for 300 epochs\n",
    "python detect.py \\\n",
    "--weights runs/train/YOLOv5l-300-iteration \\\n",
    "--img 640 \\\n",
    "--conf 0.25 \\\n",
    "--source Dataset/fall-10-detection"
   ]
  }
 ],
 "metadata": {
  "accelerator": "GPU",
  "colab": {
   "name": "YOLOv5 Tutorial",
   "provenance": [],
   "toc_visible": true
  },
  "kernelspec": {
   "display_name": "Python 3 (ipykernel)",
   "language": "python",
   "name": "python3"
  },
  "language_info": {
   "codemirror_mode": {
    "name": "ipython",
    "version": 3
   },
   "file_extension": ".py",
   "mimetype": "text/x-python",
   "name": "python",
   "nbconvert_exporter": "python",
   "pygments_lexer": "ipython3",
   "version": "3.9.1"
  },
  "widgets": {
   "application/vnd.jupyter.widget-state+json": {
    "16b0c8aa6e0f427e8a54d3791abb7504": {
     "model_module": "@jupyter-widgets/base",
     "model_module_version": "1.2.0",
     "model_name": "LayoutModel",
     "state": {
      "_model_module": "@jupyter-widgets/base",
      "_model_module_version": "1.2.0",
      "_model_name": "LayoutModel",
      "_view_count": null,
      "_view_module": "@jupyter-widgets/base",
      "_view_module_version": "1.2.0",
      "_view_name": "LayoutView",
      "align_content": null,
      "align_items": null,
      "align_self": null,
      "border": null,
      "bottom": null,
      "display": null,
      "flex": null,
      "flex_flow": null,
      "grid_area": null,
      "grid_auto_columns": null,
      "grid_auto_flow": null,
      "grid_auto_rows": null,
      "grid_column": null,
      "grid_gap": null,
      "grid_row": null,
      "grid_template_areas": null,
      "grid_template_columns": null,
      "grid_template_rows": null,
      "height": null,
      "justify_content": null,
      "justify_items": null,
      "left": null,
      "margin": null,
      "max_height": null,
      "max_width": null,
      "min_height": null,
      "min_width": null,
      "object_fit": null,
      "object_position": null,
      "order": null,
      "overflow": null,
      "overflow_x": null,
      "overflow_y": null,
      "padding": null,
      "right": null,
      "top": null,
      "visibility": null,
      "width": null
     }
    },
    "1f7df330663048998adcf8a45bc8f69b": {
     "model_module": "@jupyter-widgets/controls",
     "model_module_version": "1.5.0",
     "model_name": "HBoxModel",
     "state": {
      "_dom_classes": [],
      "_model_module": "@jupyter-widgets/controls",
      "_model_module_version": "1.5.0",
      "_model_name": "HBoxModel",
      "_view_count": null,
      "_view_module": "@jupyter-widgets/controls",
      "_view_module_version": "1.5.0",
      "_view_name": "HBoxView",
      "box_style": "",
      "children": [
       "IPY_MODEL_e896e6096dd244c59d7955e2035cd729",
       "IPY_MODEL_a6ff238c29984b24bf6d0bd175c19430",
       "IPY_MODEL_3c085ba3f3fd4c3c8a6bb41b41ce1479"
      ],
      "layout": "IPY_MODEL_16b0c8aa6e0f427e8a54d3791abb7504"
     }
    },
    "3c085ba3f3fd4c3c8a6bb41b41ce1479": {
     "model_module": "@jupyter-widgets/controls",
     "model_module_version": "1.5.0",
     "model_name": "HTMLModel",
     "state": {
      "_dom_classes": [],
      "_model_module": "@jupyter-widgets/controls",
      "_model_module_version": "1.5.0",
      "_model_name": "HTMLModel",
      "_view_count": null,
      "_view_module": "@jupyter-widgets/controls",
      "_view_module_version": "1.5.0",
      "_view_name": "HTMLView",
      "description": "",
      "description_tooltip": null,
      "layout": "IPY_MODEL_df554fb955c7454696beac5a82889386",
      "placeholder": "​",
      "style": "IPY_MODEL_74e9112a87a242f4831b7d68c7da6333",
      "value": " 780M/780M [00:05&lt;00:00, 126MB/s]"
     }
    },
    "6a27e43b0e434edd82ee63f0a91036ca": {
     "model_module": "@jupyter-widgets/controls",
     "model_module_version": "1.5.0",
     "model_name": "DescriptionStyleModel",
     "state": {
      "_model_module": "@jupyter-widgets/controls",
      "_model_module_version": "1.5.0",
      "_model_name": "DescriptionStyleModel",
      "_view_count": null,
      "_view_module": "@jupyter-widgets/base",
      "_view_module_version": "1.2.0",
      "_view_name": "StyleView",
      "description_width": ""
     }
    },
    "74e9112a87a242f4831b7d68c7da6333": {
     "model_module": "@jupyter-widgets/controls",
     "model_module_version": "1.5.0",
     "model_name": "DescriptionStyleModel",
     "state": {
      "_model_module": "@jupyter-widgets/controls",
      "_model_module_version": "1.5.0",
      "_model_name": "DescriptionStyleModel",
      "_view_count": null,
      "_view_module": "@jupyter-widgets/base",
      "_view_module_version": "1.2.0",
      "_view_name": "StyleView",
      "description_width": ""
     }
    },
    "a6ff238c29984b24bf6d0bd175c19430": {
     "model_module": "@jupyter-widgets/controls",
     "model_module_version": "1.5.0",
     "model_name": "FloatProgressModel",
     "state": {
      "_dom_classes": [],
      "_model_module": "@jupyter-widgets/controls",
      "_model_module_version": "1.5.0",
      "_model_name": "FloatProgressModel",
      "_view_count": null,
      "_view_module": "@jupyter-widgets/controls",
      "_view_module_version": "1.5.0",
      "_view_name": "ProgressView",
      "bar_style": "success",
      "description": "",
      "description_tooltip": null,
      "layout": "IPY_MODEL_cce0e6c0c4ec442cb47e65c674e02e92",
      "max": 818322941,
      "min": 0,
      "orientation": "horizontal",
      "style": "IPY_MODEL_c5b9f38e2f0d4f9aa97fe87265263743",
      "value": 818322941
     }
    },
    "c5b9f38e2f0d4f9aa97fe87265263743": {
     "model_module": "@jupyter-widgets/controls",
     "model_module_version": "1.5.0",
     "model_name": "ProgressStyleModel",
     "state": {
      "_model_module": "@jupyter-widgets/controls",
      "_model_module_version": "1.5.0",
      "_model_name": "ProgressStyleModel",
      "_view_count": null,
      "_view_module": "@jupyter-widgets/base",
      "_view_module_version": "1.2.0",
      "_view_name": "StyleView",
      "bar_color": null,
      "description_width": ""
     }
    },
    "c7b2dd0f78384cad8e400b282996cdf5": {
     "model_module": "@jupyter-widgets/base",
     "model_module_version": "1.2.0",
     "model_name": "LayoutModel",
     "state": {
      "_model_module": "@jupyter-widgets/base",
      "_model_module_version": "1.2.0",
      "_model_name": "LayoutModel",
      "_view_count": null,
      "_view_module": "@jupyter-widgets/base",
      "_view_module_version": "1.2.0",
      "_view_name": "LayoutView",
      "align_content": null,
      "align_items": null,
      "align_self": null,
      "border": null,
      "bottom": null,
      "display": null,
      "flex": null,
      "flex_flow": null,
      "grid_area": null,
      "grid_auto_columns": null,
      "grid_auto_flow": null,
      "grid_auto_rows": null,
      "grid_column": null,
      "grid_gap": null,
      "grid_row": null,
      "grid_template_areas": null,
      "grid_template_columns": null,
      "grid_template_rows": null,
      "height": null,
      "justify_content": null,
      "justify_items": null,
      "left": null,
      "margin": null,
      "max_height": null,
      "max_width": null,
      "min_height": null,
      "min_width": null,
      "object_fit": null,
      "object_position": null,
      "order": null,
      "overflow": null,
      "overflow_x": null,
      "overflow_y": null,
      "padding": null,
      "right": null,
      "top": null,
      "visibility": null,
      "width": null
     }
    },
    "cce0e6c0c4ec442cb47e65c674e02e92": {
     "model_module": "@jupyter-widgets/base",
     "model_module_version": "1.2.0",
     "model_name": "LayoutModel",
     "state": {
      "_model_module": "@jupyter-widgets/base",
      "_model_module_version": "1.2.0",
      "_model_name": "LayoutModel",
      "_view_count": null,
      "_view_module": "@jupyter-widgets/base",
      "_view_module_version": "1.2.0",
      "_view_name": "LayoutView",
      "align_content": null,
      "align_items": null,
      "align_self": null,
      "border": null,
      "bottom": null,
      "display": null,
      "flex": null,
      "flex_flow": null,
      "grid_area": null,
      "grid_auto_columns": null,
      "grid_auto_flow": null,
      "grid_auto_rows": null,
      "grid_column": null,
      "grid_gap": null,
      "grid_row": null,
      "grid_template_areas": null,
      "grid_template_columns": null,
      "grid_template_rows": null,
      "height": null,
      "justify_content": null,
      "justify_items": null,
      "left": null,
      "margin": null,
      "max_height": null,
      "max_width": null,
      "min_height": null,
      "min_width": null,
      "object_fit": null,
      "object_position": null,
      "order": null,
      "overflow": null,
      "overflow_x": null,
      "overflow_y": null,
      "padding": null,
      "right": null,
      "top": null,
      "visibility": null,
      "width": null
     }
    },
    "df554fb955c7454696beac5a82889386": {
     "model_module": "@jupyter-widgets/base",
     "model_module_version": "1.2.0",
     "model_name": "LayoutModel",
     "state": {
      "_model_module": "@jupyter-widgets/base",
      "_model_module_version": "1.2.0",
      "_model_name": "LayoutModel",
      "_view_count": null,
      "_view_module": "@jupyter-widgets/base",
      "_view_module_version": "1.2.0",
      "_view_name": "LayoutView",
      "align_content": null,
      "align_items": null,
      "align_self": null,
      "border": null,
      "bottom": null,
      "display": null,
      "flex": null,
      "flex_flow": null,
      "grid_area": null,
      "grid_auto_columns": null,
      "grid_auto_flow": null,
      "grid_auto_rows": null,
      "grid_column": null,
      "grid_gap": null,
      "grid_row": null,
      "grid_template_areas": null,
      "grid_template_columns": null,
      "grid_template_rows": null,
      "height": null,
      "justify_content": null,
      "justify_items": null,
      "left": null,
      "margin": null,
      "max_height": null,
      "max_width": null,
      "min_height": null,
      "min_width": null,
      "object_fit": null,
      "object_position": null,
      "order": null,
      "overflow": null,
      "overflow_x": null,
      "overflow_y": null,
      "padding": null,
      "right": null,
      "top": null,
      "visibility": null,
      "width": null
     }
    },
    "e896e6096dd244c59d7955e2035cd729": {
     "model_module": "@jupyter-widgets/controls",
     "model_module_version": "1.5.0",
     "model_name": "HTMLModel",
     "state": {
      "_dom_classes": [],
      "_model_module": "@jupyter-widgets/controls",
      "_model_module_version": "1.5.0",
      "_model_name": "HTMLModel",
      "_view_count": null,
      "_view_module": "@jupyter-widgets/controls",
      "_view_module_version": "1.5.0",
      "_view_name": "HTMLView",
      "description": "",
      "description_tooltip": null,
      "layout": "IPY_MODEL_c7b2dd0f78384cad8e400b282996cdf5",
      "placeholder": "​",
      "style": "IPY_MODEL_6a27e43b0e434edd82ee63f0a91036ca",
      "value": "100%"
     }
    }
   }
  }
 },
 "nbformat": 4,
 "nbformat_minor": 1
}
